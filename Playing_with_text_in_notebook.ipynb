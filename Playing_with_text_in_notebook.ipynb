{
    "metadata": {
        "kernelspec": {
            "name": "SQL",
            "display_name": "SQL",
            "language": "sql"
        },
        "language_info": {
            "name": "sql",
            "version": ""
        }
    },
    "nbformat_minor": 2,
    "nbformat": 4,
    "cells": [
        {
            "cell_type": "markdown",
            "source": [
                "# This is a header\n",
                "\n",
                "## This is a subheader\n",
                "\n",
                "and than we have **bold** and _italic_ text in a pragraph."
            ],
            "metadata": {
                "azdata_cell_guid": "fd75bbc1-ac00-40a3-af70-93f50364ff6b"
            },
            "attachments": {}
        },
        {
            "cell_type": "markdown",
            "source": [
                "This _is_ a **text** <mark>cell.</mark>"
            ],
            "metadata": {
                "azdata_cell_guid": "52b2a24b-e211-4872-b3ae-827f3ad8859e"
            },
            "attachments": {}
        },
        {
            "cell_type": "markdown",
            "source": [
                "\\# H1\n",
                "\n",
                "## H2\n",
                "\n",
                "### H3\\`"
            ],
            "metadata": {
                "azdata_cell_guid": "3467a8f8-1397-49bb-8dc2-b5803609b92e"
            },
            "attachments": {}
        },
        {
            "cell_type": "markdown",
            "source": [
                "**bold text**  \n",
                "\n",
                "*italicized text*`  \n",
                "\n",
                "> blockquote\n",
                "\n",
                "1. First item\n",
                "2. Second item\n",
                "3. Third item\n",
                "\n",
                "- First item\n",
                "- Second item\n",
                "- Third item\n",
                "\n",
                "`code`\n",
                "\n",
                "---\n",
                "\n",
                "[link](https://www.example.com)\n",
                "\n",
                "![image](image.jpg)\n",
                "\n",
                "| Syntax | Description |\n",
                "| ----------- | ----------- |\n",
                "| Header | Title |\n",
                "| Paragraph | Text | \n",
                "\n",
                "```\n",
                "{\n",
                "  \"firstName\": \"John\",\n",
                "  \"lastName\": \"Smith\",\n",
                "  \"age\": 25\n",
                "}\n",
                "``` \n",
                "### My Great Heading {#custom-id}\n",
                "\n",
                "term\n",
                ": definition \n",
                "\n",
                "~~The world is flat.~~\n",
                "\n",
                "- [x] Write the press release\n",
                "- [ ] Update the website\n",
                "- [ ] Contact the media \n",
                "\n",
                "That is so funny! :joy: **(doesn't work!)**\n",
                "\n",
                "\n",
                "\n",
                "\n",
                ""
            ],
            "metadata": {
                "azdata_cell_guid": "06b84e96-d9ce-4aff-902c-b53f39566e2c"
            },
            "attachments": {}
        }
    ]
}
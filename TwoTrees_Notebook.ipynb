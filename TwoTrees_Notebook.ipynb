{
    "metadata": {
        "kernelspec": {
            "name": "SQL",
            "display_name": "SQL",
            "language": "sql"
        },
        "language_info": {
            "name": "sql",
            "version": ""
        }
    },
    "nbformat_minor": 2,
    "nbformat": 4,
    "cells": [
        {
            "cell_type": "markdown",
            "source": [
                "![TwoTrees_logo.jpg](data:image/jpeg;base64,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)\n",
                "\n",
                "# Two Trees Database\n",
                "\n",
                "## Order review notebook\n",
                "\n",
                "This notebook contains SQL scripts for a quick analysis of sales activity. Find out more about the company's products at our [website](https://www.twotreesoliveoil.com/)."
            ],
            "metadata": {
                "azdata_cell_guid": "cb83381f-ee1c-4bd6-a8aa-a50e3821b3f5"
            },
            "attachments": {}
        },
        {
            "cell_type": "markdown",
            "source": [
                "### 1. Review the most recent three orders."
            ],
            "metadata": {
                "azdata_cell_guid": "46d0c91a-463e-4d10-9c80-9545433b2744"
            },
            "attachments": {}
        },
        {
            "cell_type": "code",
            "source": [
                "SELECT TOP(3) * \n",
                "FROM twotrees.sales.orders\n",
                "ORDER BY orders.order_date DESC;"
            ],
            "metadata": {
                "azdata_cell_guid": "12437886-4779-47a5-8a05-ee07e5532b94",
                "language": "sql",
                "tags": []
            },
            "outputs": [
                {
                    "output_type": "display_data",
                    "data": {
                        "text/html": "(3 rows affected)"
                    },
                    "metadata": {}
                },
                {
                    "output_type": "display_data",
                    "data": {
                        "text/html": "Total execution time: 00:00:00.009"
                    },
                    "metadata": {}
                },
                {
                    "output_type": "execute_result",
                    "metadata": {},
                    "execution_count": 5,
                    "data": {
                        "application/vnd.dataresource+json": {
                            "schema": {
                                "fields": [
                                    {
                                        "name": "order_id"
                                    },
                                    {
                                        "name": "order_date"
                                    },
                                    {
                                        "name": "customer_id"
                                    }
                                ]
                            },
                            "data": [
                                {
                                    "0": "120",
                                    "1": "2020-10-31",
                                    "2": "BX305"
                                },
                                {
                                    "0": "119",
                                    "1": "2020-10-30",
                                    "2": "GR208"
                                },
                                {
                                    "0": "117",
                                    "1": "2020-10-29",
                                    "2": "DF600"
                                }
                            ]
                        },
                        "text/html": [
                            "<table>",
                            "<tr><th>order_id</th><th>order_date</th><th>customer_id</th></tr>",
                            "<tr><td>120</td><td>2020-10-31</td><td>BX305</td></tr>",
                            "<tr><td>119</td><td>2020-10-30</td><td>GR208</td></tr>",
                            "<tr><td>117</td><td>2020-10-29</td><td>DF600</td></tr>",
                            "</table>"
                        ]
                    }
                }
            ],
            "execution_count": 5
        },
        {
            "cell_type": "markdown",
            "source": [
                "---\n",
                "### 2. Find all the orders from company **Blue Vine** or **Flavorville**\n",
                "> **Note:** Change the SQL variable to modify the query results!"
            ],
            "metadata": {
                "azdata_cell_guid": "991afe17-44b9-4441-86db-494cef3b6962"
            },
            "attachments": {}
        },
        {
            "cell_type": "code",
            "source": [
                "DECLARE @Company NVARCHAR(50) = 'Blue Vine';\n",
                "\n",
                "SELECT\n",
                "    orders.order_id,\n",
                "    orders.order_date,\n",
                "    customers.customer_id,\n",
                "    customers.company,\n",
                "    customers.address,\n",
                "    customers.city\n",
                "FROM twotrees.sales.orders INNER JOIN twotrees.sales.customers\n",
                "    ON orders.customer_id = customers.customer_id\n",
                "WHERE customers.company = @Company\n",
                "ORDER BY order_date DESC;"
            ],
            "metadata": {
                "azdata_cell_guid": "19433150-5b16-4acf-8523-a89936771736",
                "language": "sql",
                "tags": []
            },
            "outputs": [
                {
                    "output_type": "display_data",
                    "data": {
                        "text/html": "(4 rows affected)"
                    },
                    "metadata": {}
                },
                {
                    "output_type": "display_data",
                    "data": {
                        "text/html": "Total execution time: 00:00:00.012"
                    },
                    "metadata": {}
                },
                {
                    "output_type": "execute_result",
                    "metadata": {},
                    "execution_count": 6,
                    "data": {
                        "application/vnd.dataresource+json": {
                            "schema": {
                                "fields": [
                                    {
                                        "name": "order_id"
                                    },
                                    {
                                        "name": "order_date"
                                    },
                                    {
                                        "name": "customer_id"
                                    },
                                    {
                                        "name": "company"
                                    },
                                    {
                                        "name": "address"
                                    },
                                    {
                                        "name": "city"
                                    }
                                ]
                            },
                            "data": [
                                {
                                    "0": "115",
                                    "1": "2020-10-28",
                                    "2": "BV446",
                                    "3": "Blue Vine",
                                    "4": "40675 Raymond Curve",
                                    "5": "Columbus"
                                },
                                {
                                    "0": "112",
                                    "1": "2020-10-26",
                                    "2": "BV446",
                                    "3": "Blue Vine",
                                    "4": "40675 Raymond Curve",
                                    "5": "Columbus"
                                },
                                {
                                    "0": "102",
                                    "1": "2020-10-19",
                                    "2": "BV446",
                                    "3": "Blue Vine",
                                    "4": "40675 Raymond Curve",
                                    "5": "Columbus"
                                },
                                {
                                    "0": "103",
                                    "1": "2020-10-19",
                                    "2": "BV446",
                                    "3": "Blue Vine",
                                    "4": "40675 Raymond Curve",
                                    "5": "Columbus"
                                }
                            ]
                        },
                        "text/html": [
                            "<table>",
                            "<tr><th>order_id</th><th>order_date</th><th>customer_id</th><th>company</th><th>address</th><th>city</th></tr>",
                            "<tr><td>115</td><td>2020-10-28</td><td>BV446</td><td>Blue Vine</td><td>40675 Raymond Curve</td><td>Columbus</td></tr>",
                            "<tr><td>112</td><td>2020-10-26</td><td>BV446</td><td>Blue Vine</td><td>40675 Raymond Curve</td><td>Columbus</td></tr>",
                            "<tr><td>102</td><td>2020-10-19</td><td>BV446</td><td>Blue Vine</td><td>40675 Raymond Curve</td><td>Columbus</td></tr>",
                            "<tr><td>103</td><td>2020-10-19</td><td>BV446</td><td>Blue Vine</td><td>40675 Raymond Curve</td><td>Columbus</td></tr>",
                            "</table>"
                        ]
                    }
                }
            ],
            "execution_count": 6
        },
        {
            "cell_type": "markdown",
            "source": [
                "---\n",
                "### 3. Find the products with the most sales."
            ],
            "metadata": {
                "azdata_cell_guid": "acae2e18-e141-4023-a216-2a7b0a7b076e"
            },
            "attachments": {}
        },
        {
            "cell_type": "code",
            "source": [
                "SELECT DISTINCT\n",
                "    products.product_name,\n",
                "    products.size,\n",
                "    products.price,\n",
                "    order_lines.sku,\n",
                "    \"total_sold\" = sum(order_lines.quantity) \n",
                "        OVER (PARTITION BY order_lines.sku)\n",
                "FROM twotrees.sales.order_lines INNER JOIN twotrees.inventory.products\n",
                "    ON order_lines.sku = products.sku\n",
                "ORDER BY \"total_sold\" DESC"
            ],
            "metadata": {
                "language": "sql",
                "azdata_cell_guid": "badfaedb-f9ef-4243-942f-3d75559aab94",
                "tags": []
            },
            "outputs": [
                {
                    "output_type": "display_data",
                    "data": {
                        "text/html": "(49 rows affected)"
                    },
                    "metadata": {}
                },
                {
                    "output_type": "display_data",
                    "data": {
                        "text/html": "Total execution time: 00:00:00.024"
                    },
                    "metadata": {}
                },
                {
                    "output_type": "execute_result",
                    "metadata": {},
                    "execution_count": 7,
                    "data": {
                        "application/vnd.dataresource+json": {
                            "schema": {
                                "fields": [
                                    {
                                        "name": "product_name"
                                    },
                                    {
                                        "name": "size"
                                    },
                                    {
                                        "name": "price"
                                    },
                                    {
                                        "name": "sku"
                                    },
                                    {
                                        "name": "total_sold"
                                    }
                                ]
                            },
                            "data": [
                                {
                                    "0": "First Cold Press",
                                    "1": "8",
                                    "2": "8.99",
                                    "3": "FCP008",
                                    "4": "9"
                                },
                                {
                                    "0": "First Cold Press",
                                    "1": "128",
                                    "2": "24.99",
                                    "3": "FCP128",
                                    "4": "7"
                                },
                                {
                                    "0": "Koroneiki",
                                    "1": "128",
                                    "2": "26.99",
                                    "3": "KRN128",
                                    "4": "7"
                                },
                                {
                                    "0": "Picual",
                                    "1": "16",
                                    "2": "14.99",
                                    "3": "PIC016",
                                    "4": "7"
                                },
                                {
                                    "0": "Pure",
                                    "1": "64",
                                    "2": "20.99",
                                    "3": "PUR064",
                                    "4": "6"
                                },
                                {
                                    "0": "Extra Virgin",
                                    "1": "128",
                                    "2": "24.99",
                                    "3": "EV128",
                                    "4": "5"
                                },
                                {
                                    "0": "Frantoio",
                                    "1": "128",
                                    "2": "26.99",
                                    "3": "FR128",
                                    "4": "5"
                                },
                                {
                                    "0": "Refined",
                                    "1": "8",
                                    "2": "8.99",
                                    "3": "REF008",
                                    "4": "5"
                                },
                                {
                                    "0": "Basil-Infused EVO",
                                    "1": "8",
                                    "2": "10.99",
                                    "3": "BI008",
                                    "4": "4"
                                },
                                {
                                    "0": "Extra Virgin",
                                    "1": "32",
                                    "2": "16.99",
                                    "3": "EV032",
                                    "4": "4"
                                },
                                {
                                    "0": "First Cold Press",
                                    "1": "16",
                                    "2": "12.99",
                                    "3": "FCP016",
                                    "4": "4"
                                },
                                {
                                    "0": "Garlic-Infused EVO",
                                    "1": "32",
                                    "2": "19.99",
                                    "3": "GI032",
                                    "4": "4"
                                },
                                {
                                    "0": "Chili-Infused EVO",
                                    "1": "16",
                                    "2": "15.99",
                                    "3": "JI016",
                                    "4": "4"
                                },
                                {
                                    "0": "Chili-Infused EVO",
                                    "1": "32",
                                    "2": "19.99",
                                    "3": "JI032",
                                    "4": "4"
                                },
                                {
                                    "0": "Leccino",
                                    "1": "8",
                                    "2": "10.99",
                                    "3": "LEC008",
                                    "4": "4"
                                },
                                {
                                    "0": "Picholine",
                                    "1": "32",
                                    "2": "19.99",
                                    "3": "PCH032",
                                    "4": "4"
                                },
                                {
                                    "0": "Picholine",
                                    "1": "64",
                                    "2": "23.99",
                                    "3": "PCH064",
                                    "4": "4"
                                },
                                {
                                    "0": "Pendolino",
                                    "1": "64",
                                    "2": "22.99",
                                    "3": "PEN064",
                                    "4": "4"
                                },
                                {
                                    "0": "Picual",
                                    "1": "8",
                                    "2": "10.99",
                                    "3": "PIC008",
                                    "4": "4"
                                },
                                {
                                    "0": "Pure",
                                    "1": "16",
                                    "2": "12.99",
                                    "3": "PUR016",
                                    "4": "4"
                                },
                                {
                                    "0": "Rosemary-Infused EVO",
                                    "1": "32",
                                    "2": "18.99",
                                    "3": "RI032",
                                    "4": "4"
                                },
                                {
                                    "0": "Virgin",
                                    "1": "32",
                                    "2": "16.99",
                                    "3": "V032",
                                    "4": "4"
                                },
                                {
                                    "0": "Delicate",
                                    "1": "64",
                                    "2": "22.99",
                                    "3": "ALB064",
                                    "4": "3"
                                },
                                {
                                    "0": "Extra Virgin",
                                    "1": "8",
                                    "2": "8.99",
                                    "3": "EV008",
                                    "4": "3"
                                },
                                {
                                    "0": "Light",
                                    "1": "8",
                                    "2": "8.99",
                                    "3": "LGT008",
                                    "4": "3"
                                },
                                {
                                    "0": "Light",
                                    "1": "16",
                                    "2": "12.99",
                                    "3": "LGT016",
                                    "4": "3"
                                },
                                {
                                    "0": "Lemon-Infused EVO",
                                    "1": "16",
                                    "2": "12.99",
                                    "3": "LI016",
                                    "4": "3"
                                },
                                {
                                    "0": "Mandarin-Infused EVO",
                                    "1": "8",
                                    "2": "8.99",
                                    "3": "MI008",
                                    "4": "3"
                                },
                                {
                                    "0": "Oblica",
                                    "1": "8",
                                    "2": "11.99",
                                    "3": "OBL008",
                                    "4": "3"
                                },
                                {
                                    "0": "Oblica",
                                    "1": "128",
                                    "2": "27.99",
                                    "3": "OBL128",
                                    "4": "3"
                                },
                                {
                                    "0": "Picual",
                                    "1": "64",
                                    "2": "22.99",
                                    "3": "PIC064",
                                    "4": "3"
                                },
                                {
                                    "0": "Pure",
                                    "1": "128",
                                    "2": "24.99",
                                    "3": "PUR128",
                                    "4": "3"
                                },
                                {
                                    "0": "Delicate",
                                    "1": "128",
                                    "2": "26.99",
                                    "3": "ALB128",
                                    "4": "2"
                                },
                                {
                                    "0": "Frantoio",
                                    "1": "8",
                                    "2": "10.99",
                                    "3": "FR008",
                                    "4": "2"
                                },
                                {
                                    "0": "Bold",
                                    "1": "8",
                                    "2": "11.99",
                                    "3": "HOJ008",
                                    "4": "2"
                                },
                                {
                                    "0": "Bold",
                                    "1": "16",
                                    "2": "15.99",
                                    "3": "HOJ016",
                                    "4": "2"
                                },
                                {
                                    "0": "Bold",
                                    "1": "64",
                                    "2": "23.99",
                                    "3": "HOJ064",
                                    "4": "2"
                                },
                                {
                                    "0": "Bold",
                                    "1": "128",
                                    "2": "27.99",
                                    "3": "HOJ128",
                                    "4": "2"
                                },
                                {
                                    "0": "Manzanilla",
                                    "1": "128",
                                    "2": "26.99",
                                    "3": "MAN128",
                                    "4": "2"
                                },
                                {
                                    "0": "Moraiolo",
                                    "1": "32",
                                    "2": "18.99",
                                    "3": "MOR032",
                                    "4": "2"
                                },
                                {
                                    "0": "Pendolino",
                                    "1": "32",
                                    "2": "18.99",
                                    "3": "PEN032",
                                    "4": "2"
                                },
                                {
                                    "0": "Frantoio",
                                    "1": "64",
                                    "2": "22.99",
                                    "3": "FR064",
                                    "4": "1"
                                },
                                {
                                    "0": "Mission",
                                    "1": "16",
                                    "2": "14.99",
                                    "3": "MIS016",
                                    "4": "1"
                                },
                                {
                                    "0": "Mission",
                                    "1": "32",
                                    "2": "18.99",
                                    "3": "MIS032",
                                    "4": "1"
                                },
                                {
                                    "0": "Mission",
                                    "1": "64",
                                    "2": "22.99",
                                    "3": "MIS064",
                                    "4": "1"
                                },
                                {
                                    "0": "Pendolino",
                                    "1": "8",
                                    "2": "10.99",
                                    "3": "PEN008",
                                    "4": "1"
                                },
                                {
                                    "0": "Rosemary-Infused EVO",
                                    "1": "8",
                                    "2": "10.99",
                                    "3": "RI008",
                                    "4": "1"
                                },
                                {
                                    "0": "Rosemary-Infused EVO",
                                    "1": "16",
                                    "2": "14.99",
                                    "3": "RI016",
                                    "4": "1"
                                },
                                {
                                    "0": "Virgin",
                                    "1": "64",
                                    "2": "20.99",
                                    "3": "V064",
                                    "4": "1"
                                }
                            ]
                        },
                        "text/html": [
                            "<table>",
                            "<tr><th>product_name</th><th>size</th><th>price</th><th>sku</th><th>total_sold</th></tr>",
                            "<tr><td>First Cold Press</td><td>8</td><td>8.99</td><td>FCP008</td><td>9</td></tr>",
                            "<tr><td>First Cold Press</td><td>128</td><td>24.99</td><td>FCP128</td><td>7</td></tr>",
                            "<tr><td>Koroneiki</td><td>128</td><td>26.99</td><td>KRN128</td><td>7</td></tr>",
                            "<tr><td>Picual</td><td>16</td><td>14.99</td><td>PIC016</td><td>7</td></tr>",
                            "<tr><td>Pure</td><td>64</td><td>20.99</td><td>PUR064</td><td>6</td></tr>",
                            "<tr><td>Extra Virgin</td><td>128</td><td>24.99</td><td>EV128</td><td>5</td></tr>",
                            "<tr><td>Frantoio</td><td>128</td><td>26.99</td><td>FR128</td><td>5</td></tr>",
                            "<tr><td>Refined</td><td>8</td><td>8.99</td><td>REF008</td><td>5</td></tr>",
                            "<tr><td>Basil-Infused EVO</td><td>8</td><td>10.99</td><td>BI008</td><td>4</td></tr>",
                            "<tr><td>Extra Virgin</td><td>32</td><td>16.99</td><td>EV032</td><td>4</td></tr>",
                            "<tr><td>First Cold Press</td><td>16</td><td>12.99</td><td>FCP016</td><td>4</td></tr>",
                            "<tr><td>Garlic-Infused EVO</td><td>32</td><td>19.99</td><td>GI032</td><td>4</td></tr>",
                            "<tr><td>Chili-Infused EVO</td><td>16</td><td>15.99</td><td>JI016</td><td>4</td></tr>",
                            "<tr><td>Chili-Infused EVO</td><td>32</td><td>19.99</td><td>JI032</td><td>4</td></tr>",
                            "<tr><td>Leccino</td><td>8</td><td>10.99</td><td>LEC008</td><td>4</td></tr>",
                            "<tr><td>Picholine</td><td>32</td><td>19.99</td><td>PCH032</td><td>4</td></tr>",
                            "<tr><td>Picholine</td><td>64</td><td>23.99</td><td>PCH064</td><td>4</td></tr>",
                            "<tr><td>Pendolino</td><td>64</td><td>22.99</td><td>PEN064</td><td>4</td></tr>",
                            "<tr><td>Picual</td><td>8</td><td>10.99</td><td>PIC008</td><td>4</td></tr>",
                            "<tr><td>Pure</td><td>16</td><td>12.99</td><td>PUR016</td><td>4</td></tr>",
                            "<tr><td>Rosemary-Infused EVO</td><td>32</td><td>18.99</td><td>RI032</td><td>4</td></tr>",
                            "<tr><td>Virgin</td><td>32</td><td>16.99</td><td>V032</td><td>4</td></tr>",
                            "<tr><td>Delicate</td><td>64</td><td>22.99</td><td>ALB064</td><td>3</td></tr>",
                            "<tr><td>Extra Virgin</td><td>8</td><td>8.99</td><td>EV008</td><td>3</td></tr>",
                            "<tr><td>Light</td><td>8</td><td>8.99</td><td>LGT008</td><td>3</td></tr>",
                            "<tr><td>Light</td><td>16</td><td>12.99</td><td>LGT016</td><td>3</td></tr>",
                            "<tr><td>Lemon-Infused EVO</td><td>16</td><td>12.99</td><td>LI016</td><td>3</td></tr>",
                            "<tr><td>Mandarin-Infused EVO</td><td>8</td><td>8.99</td><td>MI008</td><td>3</td></tr>",
                            "<tr><td>Oblica</td><td>8</td><td>11.99</td><td>OBL008</td><td>3</td></tr>",
                            "<tr><td>Oblica</td><td>128</td><td>27.99</td><td>OBL128</td><td>3</td></tr>",
                            "<tr><td>Picual</td><td>64</td><td>22.99</td><td>PIC064</td><td>3</td></tr>",
                            "<tr><td>Pure</td><td>128</td><td>24.99</td><td>PUR128</td><td>3</td></tr>",
                            "<tr><td>Delicate</td><td>128</td><td>26.99</td><td>ALB128</td><td>2</td></tr>",
                            "<tr><td>Frantoio</td><td>8</td><td>10.99</td><td>FR008</td><td>2</td></tr>",
                            "<tr><td>Bold</td><td>8</td><td>11.99</td><td>HOJ008</td><td>2</td></tr>",
                            "<tr><td>Bold</td><td>16</td><td>15.99</td><td>HOJ016</td><td>2</td></tr>",
                            "<tr><td>Bold</td><td>64</td><td>23.99</td><td>HOJ064</td><td>2</td></tr>",
                            "<tr><td>Bold</td><td>128</td><td>27.99</td><td>HOJ128</td><td>2</td></tr>",
                            "<tr><td>Manzanilla</td><td>128</td><td>26.99</td><td>MAN128</td><td>2</td></tr>",
                            "<tr><td>Moraiolo</td><td>32</td><td>18.99</td><td>MOR032</td><td>2</td></tr>",
                            "<tr><td>Pendolino</td><td>32</td><td>18.99</td><td>PEN032</td><td>2</td></tr>",
                            "<tr><td>Frantoio</td><td>64</td><td>22.99</td><td>FR064</td><td>1</td></tr>",
                            "<tr><td>Mission</td><td>16</td><td>14.99</td><td>MIS016</td><td>1</td></tr>",
                            "<tr><td>Mission</td><td>32</td><td>18.99</td><td>MIS032</td><td>1</td></tr>",
                            "<tr><td>Mission</td><td>64</td><td>22.99</td><td>MIS064</td><td>1</td></tr>",
                            "<tr><td>Pendolino</td><td>8</td><td>10.99</td><td>PEN008</td><td>1</td></tr>",
                            "<tr><td>Rosemary-Infused EVO</td><td>8</td><td>10.99</td><td>RI008</td><td>1</td></tr>",
                            "<tr><td>Rosemary-Infused EVO</td><td>16</td><td>14.99</td><td>RI016</td><td>1</td></tr>",
                            "<tr><td>Virgin</td><td>64</td><td>20.99</td><td>V064</td><td>1</td></tr>",
                            "</table>"
                        ]
                    }
                }
            ],
            "execution_count": 7
        }
    ]
}
{
    "metadata": {
        "kernelspec": {
            "name": "SQL",
            "display_name": "SQL",
            "language": "sql"
        },
        "language_info": {
            "name": "sql",
            "version": ""
        }
    },
    "nbformat_minor": 2,
    "nbformat": 4,
    "cells": [
        {
            "cell_type": "code",
            "source": [
                "SELECT @@version AS 'SQL Server Version';"
            ],
            "metadata": {
                "azdata_cell_guid": "91ba0106-b62f-4dd8-89b9-6cb87a0a5dcb",
                "language": "sql",
                "tags": []
            },
            "outputs": [],
            "execution_count": null
        },
        {
            "cell_type": "code",
            "source": [
                "SELECT * FROM twotrees.inventory.categories;"
            ],
            "metadata": {
                "language": "sql",
                "azdata_cell_guid": "2a19fefc-bdcf-453e-964c-e160621f3980"
            },
            "outputs": [],
            "execution_count": null
        },
        {
            "cell_type": "code",
            "source": [
                "USE twotrees;\r\n",
                "GO\r\n",
                "SELECT * FROM inventory.categories;\r\n",
                "\r\n",
                "USE kineteco;\r\n",
                "GO \r\n",
                "SELECT * FROM dbo.department;"
            ],
            "metadata": {
                "azdata_cell_guid": "9dcf4138-19ed-4532-880b-908cce599de6",
                "language": "sql"
            },
            "outputs": [
                {
                    "output_type": "display_data",
                    "data": {
                        "text/html": "Commands completed successfully."
                    },
                    "metadata": {}
                },
                {
                    "output_type": "display_data",
                    "data": {
                        "text/html": "(3 rows affected)"
                    },
                    "metadata": {}
                },
                {
                    "output_type": "display_data",
                    "data": {
                        "text/html": "(10 rows affected)"
                    },
                    "metadata": {}
                },
                {
                    "output_type": "display_data",
                    "data": {
                        "text/html": "Total execution time: 00:00:00.079"
                    },
                    "metadata": {}
                },
                {
                    "output_type": "execute_result",
                    "execution_count": 3,
                    "data": {
                        "application/vnd.dataresource+json": {
                            "schema": {
                                "fields": [
                                    {
                                        "name": "category_id"
                                    },
                                    {
                                        "name": "category_description"
                                    },
                                    {
                                        "name": "product_line"
                                    }
                                ]
                            },
                            "data": [
                                {
                                    "0": "1",
                                    "1": "Olive Oils",
                                    "2": "Gourmet Chef"
                                },
                                {
                                    "0": "2",
                                    "1": "Flavor Infused Oils",
                                    "2": "Gourmet Chef"
                                },
                                {
                                    "0": "3",
                                    "1": "Bath and Beauty",
                                    "2": "Cosmetics"
                                }
                            ]
                        },
                        "text/html": "<table><tr><th>category_id</th><th>category_description</th><th>product_line</th></tr><tr><td>1</td><td>Olive Oils</td><td>Gourmet Chef</td></tr><tr><td>2</td><td>Flavor Infused Oils</td><td>Gourmet Chef</td></tr><tr><td>3</td><td>Bath and Beauty</td><td>Cosmetics</td></tr></table>"
                    },
                    "metadata": {}
                },
                {
                    "output_type": "execute_result",
                    "execution_count": 3,
                    "data": {
                        "application/vnd.dataresource+json": {
                            "schema": {
                                "fields": [
                                    {
                                        "name": "department_id"
                                    },
                                    {
                                        "name": "department_name"
                                    },
                                    {
                                        "name": "building"
                                    }
                                ]
                            },
                            "data": [
                                {
                                    "0": "100",
                                    "1": "Account Management",
                                    "2": "West Campus"
                                },
                                {
                                    "0": "200",
                                    "1": "Environmental Compliance",
                                    "2": "Taft"
                                },
                                {
                                    "0": "300",
                                    "1": "Facilities/Engineering",
                                    "2": "Watson"
                                },
                                {
                                    "0": "400",
                                    "1": "Human Resources (HR)",
                                    "2": "Main"
                                },
                                {
                                    "0": "500",
                                    "1": "Manufacturing",
                                    "2": "South"
                                },
                                {
                                    "0": "600",
                                    "1": "Manufacturing Admin",
                                    "2": "South"
                                },
                                {
                                    "0": "700",
                                    "1": "Quality Control",
                                    "2": "South"
                                },
                                {
                                    "0": "800",
                                    "1": "Training",
                                    "2": "Main"
                                },
                                {
                                    "0": "900",
                                    "1": "Sales",
                                    "2": "south"
                                },
                                {
                                    "0": "1000",
                                    "1": "Research & Development",
                                    "2": "Taft"
                                }
                            ]
                        },
                        "text/html": "<table><tr><th>department_id</th><th>department_name</th><th>building</th></tr><tr><td>100</td><td>Account Management</td><td>West Campus</td></tr><tr><td>200</td><td>Environmental Compliance</td><td>Taft</td></tr><tr><td>300</td><td>Facilities/Engineering</td><td>Watson</td></tr><tr><td>400</td><td>Human Resources (HR)</td><td>Main</td></tr><tr><td>500</td><td>Manufacturing</td><td>South</td></tr><tr><td>600</td><td>Manufacturing Admin</td><td>South</td></tr><tr><td>700</td><td>Quality Control</td><td>South</td></tr><tr><td>800</td><td>Training</td><td>Main</td></tr><tr><td>900</td><td>Sales</td><td>south</td></tr><tr><td>1000</td><td>Research &amp; Development</td><td>Taft</td></tr></table>"
                    },
                    "metadata": {}
                }
            ],
            "execution_count": 3
        }
    ]
}